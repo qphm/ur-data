{
 "cells": [
  {
   "cell_type": "code",
   "execution_count": 1,
   "metadata": {},
   "outputs": [],
   "source": [
    "#Dependencies and Setup\n",
    "import pandas as pd\n",
    "import numpy as np\n",
    "\n",
    "#Setting path to pull file from\n",
    "file = \"Resources/purchase_data.csv\"\n",
    "\n",
    "#Read pulled file and store into Pandas data frame\n",
    "purchase_data = pd.read_csv(file)"
   ]
  },
  {
   "cell_type": "markdown",
   "metadata": {},
   "source": [
    "## Player Count"
   ]
  },
  {
   "cell_type": "code",
   "execution_count": 2,
   "metadata": {},
   "outputs": [
    {
     "data": {
      "text/plain": [
       "576"
      ]
     },
     "execution_count": 2,
     "metadata": {},
     "output_type": "execute_result"
    }
   ],
   "source": [
    "#Calculating the unique screen names\n",
    "unique_accounts = (purchase_data[\"SN\"].unique())\n",
    "total_accounts = len(unique_accounts)\n",
    "\n",
    "#Display the total number of accounts\n",
    "total_accounts"
   ]
  },
  {
   "cell_type": "markdown",
   "metadata": {},
   "source": [
    "## Purchasing Analysis (Total)"
   ]
  },
  {
   "cell_type": "code",
   "execution_count": 3,
   "metadata": {
    "scrolled": true
   },
   "outputs": [
    {
     "data": {
      "text/html": [
       "<style  type=\"text/css\" >\n",
       "</style><table id=\"T_66f1dab6_bd80_11e9_b217_38378bf0b9e9\" ><thead>    <tr>        <th class=\"blank level0\" ></th>        <th class=\"col_heading level0 col0\" >Number of Items</th>        <th class=\"col_heading level0 col1\" >Average Price</th>        <th class=\"col_heading level0 col2\" >Total Purchases</th>        <th class=\"col_heading level0 col3\" >Total Revenue</th>    </tr></thead><tbody>\n",
       "                <tr>\n",
       "                        <th id=\"T_66f1dab6_bd80_11e9_b217_38378bf0b9e9level0_row0\" class=\"row_heading level0 row0\" >0</th>\n",
       "                        <td id=\"T_66f1dab6_bd80_11e9_b217_38378bf0b9e9row0_col0\" class=\"data row0 col0\" >183</td>\n",
       "                        <td id=\"T_66f1dab6_bd80_11e9_b217_38378bf0b9e9row0_col1\" class=\"data row0 col1\" >$3.05</td>\n",
       "                        <td id=\"T_66f1dab6_bd80_11e9_b217_38378bf0b9e9row0_col2\" class=\"data row0 col2\" >780</td>\n",
       "                        <td id=\"T_66f1dab6_bd80_11e9_b217_38378bf0b9e9row0_col3\" class=\"data row0 col3\" >$2,379.77</td>\n",
       "            </tr>\n",
       "    </tbody></table>"
      ],
      "text/plain": [
       "<pandas.io.formats.style.Styler at 0x294040eb5c8>"
      ]
     },
     "execution_count": 3,
     "metadata": {},
     "output_type": "execute_result"
    }
   ],
   "source": [
    "#Storing data into variables using basic calculations\n",
    "unique_items = len((purchase_data[\"Item ID\"]).unique())\n",
    "average_price = (purchase_data[\"Price\"]).mean()\n",
    "total_purchases = (purchase_data[\"Purchase ID\"]).count()\n",
    "total_revenue = (purchase_data[\"Price\"]).sum()\n",
    "\n",
    "#Creating a DataFrame to display\n",
    "total_df = pd.DataFrame({\"Number of Items\":[unique_items],\n",
    "                         \"Average Price\":[average_price], \n",
    "                         \"Total Purchases\": [total_purchases], \n",
    "                         \"Total Revenue\": [total_revenue]})\n",
    "\n",
    "#Altering format to better showcase data\n",
    "total_df.style.format({'Average Price':\"${:,.2f}\", \n",
    "                       'Total Revenue': '${:,.2f}'})"
   ]
  },
  {
   "cell_type": "markdown",
   "metadata": {},
   "source": [
    "## Gender Demographics"
   ]
  },
  {
   "cell_type": "code",
   "execution_count": 4,
   "metadata": {},
   "outputs": [
    {
     "data": {
      "text/html": [
       "<style  type=\"text/css\" >\n",
       "</style><table id=\"T_66f8c8c0_bd80_11e9_8f31_38378bf0b9e9\" ><thead>    <tr>        <th class=\"blank level0\" ></th>        <th class=\"col_heading level0 col0\" >Percentage of Players</th>        <th class=\"col_heading level0 col1\" >Total Count</th>    </tr>    <tr>        <th class=\"index_name level0\" >Gender</th>        <th class=\"blank\" ></th>        <th class=\"blank\" ></th>    </tr></thead><tbody>\n",
       "                <tr>\n",
       "                        <th id=\"T_66f8c8c0_bd80_11e9_8f31_38378bf0b9e9level0_row0\" class=\"row_heading level0 row0\" >Female</th>\n",
       "                        <td id=\"T_66f8c8c0_bd80_11e9_8f31_38378bf0b9e9row0_col0\" class=\"data row0 col0\" >14.06%</td>\n",
       "                        <td id=\"T_66f8c8c0_bd80_11e9_8f31_38378bf0b9e9row0_col1\" class=\"data row0 col1\" >81</td>\n",
       "            </tr>\n",
       "            <tr>\n",
       "                        <th id=\"T_66f8c8c0_bd80_11e9_8f31_38378bf0b9e9level0_row1\" class=\"row_heading level0 row1\" >Male</th>\n",
       "                        <td id=\"T_66f8c8c0_bd80_11e9_8f31_38378bf0b9e9row1_col0\" class=\"data row1 col0\" >84.03%</td>\n",
       "                        <td id=\"T_66f8c8c0_bd80_11e9_8f31_38378bf0b9e9row1_col1\" class=\"data row1 col1\" >484</td>\n",
       "            </tr>\n",
       "            <tr>\n",
       "                        <th id=\"T_66f8c8c0_bd80_11e9_8f31_38378bf0b9e9level0_row2\" class=\"row_heading level0 row2\" >Other / Non-Disclosed</th>\n",
       "                        <td id=\"T_66f8c8c0_bd80_11e9_8f31_38378bf0b9e9row2_col0\" class=\"data row2 col0\" >1.91%</td>\n",
       "                        <td id=\"T_66f8c8c0_bd80_11e9_8f31_38378bf0b9e9row2_col1\" class=\"data row2 col1\" >11</td>\n",
       "            </tr>\n",
       "    </tbody></table>"
      ],
      "text/plain": [
       "<pandas.io.formats.style.Styler at 0x294045e8408>"
      ]
     },
     "execution_count": 4,
     "metadata": {},
     "output_type": "execute_result"
    }
   ],
   "source": [
    "#Storing data into variables using basic calculations\n",
    "gender_group = purchase_data.groupby(\"Gender\")\n",
    "gender_count = gender_group.nunique()[\"SN\"]\n",
    "players_percentage = gender_count / total_accounts * 100\n",
    "\n",
    "#Creating a DataFrame to display\n",
    "gender_demo = pd.DataFrame({\"Percentage of Players\": players_percentage, \"Total Count\": gender_count})\n",
    "\n",
    "#Altering format to better showcase data\n",
    "gender_demo.style.format({\"Percentage of Players\": \"{:.2f}%\"})"
   ]
  },
  {
   "cell_type": "markdown",
   "metadata": {},
   "source": [
    "\n",
    "## Purchasing Analysis (Gender)"
   ]
  },
  {
   "cell_type": "code",
   "execution_count": 6,
   "metadata": {},
   "outputs": [
    {
     "data": {
      "text/html": [
       "<style  type=\"text/css\" >\n",
       "</style><table id=\"T_7d1a2f90_bd80_11e9_9e06_38378bf0b9e9\" ><thead>    <tr>        <th class=\"blank level0\" ></th>        <th class=\"col_heading level0 col0\" >Purchase Count</th>        <th class=\"col_heading level0 col1\" >Average Price</th>        <th class=\"col_heading level0 col2\" >Average Value</th>        <th class=\"col_heading level0 col3\" >Average per Person</th>    </tr>    <tr>        <th class=\"index_name level0\" >Gender</th>        <th class=\"blank\" ></th>        <th class=\"blank\" ></th>        <th class=\"blank\" ></th>        <th class=\"blank\" ></th>    </tr></thead><tbody>\n",
       "                <tr>\n",
       "                        <th id=\"T_7d1a2f90_bd80_11e9_9e06_38378bf0b9e9level0_row0\" class=\"row_heading level0 row0\" >Female</th>\n",
       "                        <td id=\"T_7d1a2f90_bd80_11e9_9e06_38378bf0b9e9row0_col0\" class=\"data row0 col0\" >113</td>\n",
       "                        <td id=\"T_7d1a2f90_bd80_11e9_9e06_38378bf0b9e9row0_col1\" class=\"data row0 col1\" >$3.20</td>\n",
       "                        <td id=\"T_7d1a2f90_bd80_11e9_9e06_38378bf0b9e9row0_col2\" class=\"data row0 col2\" >$361.94</td>\n",
       "                        <td id=\"T_7d1a2f90_bd80_11e9_9e06_38378bf0b9e9row0_col3\" class=\"data row0 col3\" >$4.47</td>\n",
       "            </tr>\n",
       "            <tr>\n",
       "                        <th id=\"T_7d1a2f90_bd80_11e9_9e06_38378bf0b9e9level0_row1\" class=\"row_heading level0 row1\" >Male</th>\n",
       "                        <td id=\"T_7d1a2f90_bd80_11e9_9e06_38378bf0b9e9row1_col0\" class=\"data row1 col0\" >652</td>\n",
       "                        <td id=\"T_7d1a2f90_bd80_11e9_9e06_38378bf0b9e9row1_col1\" class=\"data row1 col1\" >$3.02</td>\n",
       "                        <td id=\"T_7d1a2f90_bd80_11e9_9e06_38378bf0b9e9row1_col2\" class=\"data row1 col2\" >$1,967.64</td>\n",
       "                        <td id=\"T_7d1a2f90_bd80_11e9_9e06_38378bf0b9e9row1_col3\" class=\"data row1 col3\" >$4.07</td>\n",
       "            </tr>\n",
       "            <tr>\n",
       "                        <th id=\"T_7d1a2f90_bd80_11e9_9e06_38378bf0b9e9level0_row2\" class=\"row_heading level0 row2\" >Other / Non-Disclosed</th>\n",
       "                        <td id=\"T_7d1a2f90_bd80_11e9_9e06_38378bf0b9e9row2_col0\" class=\"data row2 col0\" >15</td>\n",
       "                        <td id=\"T_7d1a2f90_bd80_11e9_9e06_38378bf0b9e9row2_col1\" class=\"data row2 col1\" >$3.35</td>\n",
       "                        <td id=\"T_7d1a2f90_bd80_11e9_9e06_38378bf0b9e9row2_col2\" class=\"data row2 col2\" >$50.19</td>\n",
       "                        <td id=\"T_7d1a2f90_bd80_11e9_9e06_38378bf0b9e9row2_col3\" class=\"data row2 col3\" >$4.56</td>\n",
       "            </tr>\n",
       "    </tbody></table>"
      ],
      "text/plain": [
       "<pandas.io.formats.style.Styler at 0x2940498a208>"
      ]
     },
     "execution_count": 6,
     "metadata": {},
     "output_type": "execute_result"
    }
   ],
   "source": [
    "#Storing data into variables using basic calculations\n",
    "purchase_count = gender_group[\"Purchase ID\"].count()\n",
    "avg_price = gender_group[\"Price\"].mean()\n",
    "avg_value = gender_group[\"Price\"].sum()\n",
    "per_person = avg_value/gender_count\n",
    "\n",
    "#Creating a DataFrame to display\n",
    "gender_demo = pd.DataFrame({\"Purchase Count\": purchase_count, \n",
    "                            \"Average Price\": avg_price,\n",
    "                            \"Average Value\": avg_value,\n",
    "                            \"Average per Person\": per_person})\n",
    "\n",
    "#Altering format to better showcase data\n",
    "gender_demo.style.format({\"Average Value\":\"${:,.2f}\",\n",
    "                          \"Average Price\":\"${:,.2f}\",\n",
    "                          \"Average per Person\":\"${:,.2f}\"})"
   ]
  },
  {
   "cell_type": "markdown",
   "metadata": {},
   "source": [
    "## Age Demographics"
   ]
  },
  {
   "cell_type": "code",
   "execution_count": 10,
   "metadata": {},
   "outputs": [
    {
     "data": {
      "text/html": [
       "<style  type=\"text/css\" >\n",
       "</style><table id=\"T_a2d9558c_bd80_11e9_b77c_38378bf0b9e9\" ><thead>    <tr>        <th class=\"blank level0\" ></th>        <th class=\"col_heading level0 col0\" >Percentage of Players</th>        <th class=\"col_heading level0 col1\" >Total Count</th>    </tr>    <tr>        <th class=\"index_name level0\" >Age Group</th>        <th class=\"blank\" ></th>        <th class=\"blank\" ></th>    </tr></thead><tbody>\n",
       "                <tr>\n",
       "                        <th id=\"T_a2d9558c_bd80_11e9_b77c_38378bf0b9e9level0_row0\" class=\"row_heading level0 row0\" ><10</th>\n",
       "                        <td id=\"T_a2d9558c_bd80_11e9_b77c_38378bf0b9e9row0_col0\" class=\"data row0 col0\" >2.95%</td>\n",
       "                        <td id=\"T_a2d9558c_bd80_11e9_b77c_38378bf0b9e9row0_col1\" class=\"data row0 col1\" >17</td>\n",
       "            </tr>\n",
       "            <tr>\n",
       "                        <th id=\"T_a2d9558c_bd80_11e9_b77c_38378bf0b9e9level0_row1\" class=\"row_heading level0 row1\" >10-14</th>\n",
       "                        <td id=\"T_a2d9558c_bd80_11e9_b77c_38378bf0b9e9row1_col0\" class=\"data row1 col0\" >3.82%</td>\n",
       "                        <td id=\"T_a2d9558c_bd80_11e9_b77c_38378bf0b9e9row1_col1\" class=\"data row1 col1\" >22</td>\n",
       "            </tr>\n",
       "            <tr>\n",
       "                        <th id=\"T_a2d9558c_bd80_11e9_b77c_38378bf0b9e9level0_row2\" class=\"row_heading level0 row2\" >15-19</th>\n",
       "                        <td id=\"T_a2d9558c_bd80_11e9_b77c_38378bf0b9e9row2_col0\" class=\"data row2 col0\" >18.58%</td>\n",
       "                        <td id=\"T_a2d9558c_bd80_11e9_b77c_38378bf0b9e9row2_col1\" class=\"data row2 col1\" >107</td>\n",
       "            </tr>\n",
       "            <tr>\n",
       "                        <th id=\"T_a2d9558c_bd80_11e9_b77c_38378bf0b9e9level0_row3\" class=\"row_heading level0 row3\" >20-24</th>\n",
       "                        <td id=\"T_a2d9558c_bd80_11e9_b77c_38378bf0b9e9row3_col0\" class=\"data row3 col0\" >44.79%</td>\n",
       "                        <td id=\"T_a2d9558c_bd80_11e9_b77c_38378bf0b9e9row3_col1\" class=\"data row3 col1\" >258</td>\n",
       "            </tr>\n",
       "            <tr>\n",
       "                        <th id=\"T_a2d9558c_bd80_11e9_b77c_38378bf0b9e9level0_row4\" class=\"row_heading level0 row4\" >25-29</th>\n",
       "                        <td id=\"T_a2d9558c_bd80_11e9_b77c_38378bf0b9e9row4_col0\" class=\"data row4 col0\" >13.37%</td>\n",
       "                        <td id=\"T_a2d9558c_bd80_11e9_b77c_38378bf0b9e9row4_col1\" class=\"data row4 col1\" >77</td>\n",
       "            </tr>\n",
       "            <tr>\n",
       "                        <th id=\"T_a2d9558c_bd80_11e9_b77c_38378bf0b9e9level0_row5\" class=\"row_heading level0 row5\" >30-34</th>\n",
       "                        <td id=\"T_a2d9558c_bd80_11e9_b77c_38378bf0b9e9row5_col0\" class=\"data row5 col0\" >9.03%</td>\n",
       "                        <td id=\"T_a2d9558c_bd80_11e9_b77c_38378bf0b9e9row5_col1\" class=\"data row5 col1\" >52</td>\n",
       "            </tr>\n",
       "            <tr>\n",
       "                        <th id=\"T_a2d9558c_bd80_11e9_b77c_38378bf0b9e9level0_row6\" class=\"row_heading level0 row6\" >35-39</th>\n",
       "                        <td id=\"T_a2d9558c_bd80_11e9_b77c_38378bf0b9e9row6_col0\" class=\"data row6 col0\" >5.38%</td>\n",
       "                        <td id=\"T_a2d9558c_bd80_11e9_b77c_38378bf0b9e9row6_col1\" class=\"data row6 col1\" >31</td>\n",
       "            </tr>\n",
       "            <tr>\n",
       "                        <th id=\"T_a2d9558c_bd80_11e9_b77c_38378bf0b9e9level0_row7\" class=\"row_heading level0 row7\" >>40</th>\n",
       "                        <td id=\"T_a2d9558c_bd80_11e9_b77c_38378bf0b9e9row7_col0\" class=\"data row7 col0\" >2.08%</td>\n",
       "                        <td id=\"T_a2d9558c_bd80_11e9_b77c_38378bf0b9e9row7_col1\" class=\"data row7 col1\" >12</td>\n",
       "            </tr>\n",
       "    </tbody></table>"
      ],
      "text/plain": [
       "<pandas.io.formats.style.Styler at 0x29403493dc8>"
      ]
     },
     "execution_count": 10,
     "metadata": {},
     "output_type": "execute_result"
    }
   ],
   "source": [
    "#Establishing bins \n",
    "age_bins = [0, 9, 14, 19, 24, 29, 34, 39, 100]\n",
    "group_names = [\"<10\", \"10-14\", \"15-19\", \"20-24\", \"25-29\", \"30-34\", \"35-39\", \">40\"]\n",
    "\n",
    "#Storing data into variables using basic calculations\n",
    "purchase_data[\"Age Group\"] = pd.cut(purchase_data[\"Age\"],age_bins, labels=group_names)\n",
    "age_group = purchase_data.groupby(\"Age Group\")\n",
    "age_count = age_group[\"SN\"].nunique()\n",
    "age_percentage = (age_count/total_accounts) * 100\n",
    "\n",
    "#Creating a DataFrame to display\n",
    "age_demo = pd.DataFrame({\"Percentage of Players\": age_percentage, \"Total Count\": age_count})\n",
    "\n",
    "#Altering format to better showcase data\n",
    "age_demo.style.format({\"Percentage of Players\": \"{:.2f}%\"})"
   ]
  },
  {
   "cell_type": "markdown",
   "metadata": {},
   "source": [
    "## Purchasing Analysis (Age)"
   ]
  },
  {
   "cell_type": "code",
   "execution_count": 12,
   "metadata": {},
   "outputs": [
    {
     "data": {
      "text/html": [
       "<style  type=\"text/css\" >\n",
       "</style><table id=\"T_a42664e6_bd80_11e9_ae28_38378bf0b9e9\" ><thead>    <tr>        <th class=\"blank level0\" ></th>        <th class=\"col_heading level0 col0\" >Purchase Count</th>        <th class=\"col_heading level0 col1\" >Average Purchase Price</th>        <th class=\"col_heading level0 col2\" >Total Purchase Value</th>        <th class=\"col_heading level0 col3\" >Average per Person</th>    </tr>    <tr>        <th class=\"index_name level0\" >Age Group</th>        <th class=\"blank\" ></th>        <th class=\"blank\" ></th>        <th class=\"blank\" ></th>        <th class=\"blank\" ></th>    </tr></thead><tbody>\n",
       "                <tr>\n",
       "                        <th id=\"T_a42664e6_bd80_11e9_ae28_38378bf0b9e9level0_row0\" class=\"row_heading level0 row0\" ><10</th>\n",
       "                        <td id=\"T_a42664e6_bd80_11e9_ae28_38378bf0b9e9row0_col0\" class=\"data row0 col0\" >23</td>\n",
       "                        <td id=\"T_a42664e6_bd80_11e9_ae28_38378bf0b9e9row0_col1\" class=\"data row0 col1\" >$3.35</td>\n",
       "                        <td id=\"T_a42664e6_bd80_11e9_ae28_38378bf0b9e9row0_col2\" class=\"data row0 col2\" >$77.13</td>\n",
       "                        <td id=\"T_a42664e6_bd80_11e9_ae28_38378bf0b9e9row0_col3\" class=\"data row0 col3\" >$4.54</td>\n",
       "            </tr>\n",
       "            <tr>\n",
       "                        <th id=\"T_a42664e6_bd80_11e9_ae28_38378bf0b9e9level0_row1\" class=\"row_heading level0 row1\" >10-14</th>\n",
       "                        <td id=\"T_a42664e6_bd80_11e9_ae28_38378bf0b9e9row1_col0\" class=\"data row1 col0\" >28</td>\n",
       "                        <td id=\"T_a42664e6_bd80_11e9_ae28_38378bf0b9e9row1_col1\" class=\"data row1 col1\" >$2.96</td>\n",
       "                        <td id=\"T_a42664e6_bd80_11e9_ae28_38378bf0b9e9row1_col2\" class=\"data row1 col2\" >$82.78</td>\n",
       "                        <td id=\"T_a42664e6_bd80_11e9_ae28_38378bf0b9e9row1_col3\" class=\"data row1 col3\" >$3.76</td>\n",
       "            </tr>\n",
       "            <tr>\n",
       "                        <th id=\"T_a42664e6_bd80_11e9_ae28_38378bf0b9e9level0_row2\" class=\"row_heading level0 row2\" >15-19</th>\n",
       "                        <td id=\"T_a42664e6_bd80_11e9_ae28_38378bf0b9e9row2_col0\" class=\"data row2 col0\" >136</td>\n",
       "                        <td id=\"T_a42664e6_bd80_11e9_ae28_38378bf0b9e9row2_col1\" class=\"data row2 col1\" >$3.04</td>\n",
       "                        <td id=\"T_a42664e6_bd80_11e9_ae28_38378bf0b9e9row2_col2\" class=\"data row2 col2\" >$412.89</td>\n",
       "                        <td id=\"T_a42664e6_bd80_11e9_ae28_38378bf0b9e9row2_col3\" class=\"data row2 col3\" >$3.86</td>\n",
       "            </tr>\n",
       "            <tr>\n",
       "                        <th id=\"T_a42664e6_bd80_11e9_ae28_38378bf0b9e9level0_row3\" class=\"row_heading level0 row3\" >20-24</th>\n",
       "                        <td id=\"T_a42664e6_bd80_11e9_ae28_38378bf0b9e9row3_col0\" class=\"data row3 col0\" >365</td>\n",
       "                        <td id=\"T_a42664e6_bd80_11e9_ae28_38378bf0b9e9row3_col1\" class=\"data row3 col1\" >$3.05</td>\n",
       "                        <td id=\"T_a42664e6_bd80_11e9_ae28_38378bf0b9e9row3_col2\" class=\"data row3 col2\" >$1,114.06</td>\n",
       "                        <td id=\"T_a42664e6_bd80_11e9_ae28_38378bf0b9e9row3_col3\" class=\"data row3 col3\" >$4.32</td>\n",
       "            </tr>\n",
       "            <tr>\n",
       "                        <th id=\"T_a42664e6_bd80_11e9_ae28_38378bf0b9e9level0_row4\" class=\"row_heading level0 row4\" >25-29</th>\n",
       "                        <td id=\"T_a42664e6_bd80_11e9_ae28_38378bf0b9e9row4_col0\" class=\"data row4 col0\" >101</td>\n",
       "                        <td id=\"T_a42664e6_bd80_11e9_ae28_38378bf0b9e9row4_col1\" class=\"data row4 col1\" >$2.90</td>\n",
       "                        <td id=\"T_a42664e6_bd80_11e9_ae28_38378bf0b9e9row4_col2\" class=\"data row4 col2\" >$293.00</td>\n",
       "                        <td id=\"T_a42664e6_bd80_11e9_ae28_38378bf0b9e9row4_col3\" class=\"data row4 col3\" >$3.81</td>\n",
       "            </tr>\n",
       "            <tr>\n",
       "                        <th id=\"T_a42664e6_bd80_11e9_ae28_38378bf0b9e9level0_row5\" class=\"row_heading level0 row5\" >30-34</th>\n",
       "                        <td id=\"T_a42664e6_bd80_11e9_ae28_38378bf0b9e9row5_col0\" class=\"data row5 col0\" >73</td>\n",
       "                        <td id=\"T_a42664e6_bd80_11e9_ae28_38378bf0b9e9row5_col1\" class=\"data row5 col1\" >$2.93</td>\n",
       "                        <td id=\"T_a42664e6_bd80_11e9_ae28_38378bf0b9e9row5_col2\" class=\"data row5 col2\" >$214.00</td>\n",
       "                        <td id=\"T_a42664e6_bd80_11e9_ae28_38378bf0b9e9row5_col3\" class=\"data row5 col3\" >$4.12</td>\n",
       "            </tr>\n",
       "            <tr>\n",
       "                        <th id=\"T_a42664e6_bd80_11e9_ae28_38378bf0b9e9level0_row6\" class=\"row_heading level0 row6\" >35-39</th>\n",
       "                        <td id=\"T_a42664e6_bd80_11e9_ae28_38378bf0b9e9row6_col0\" class=\"data row6 col0\" >41</td>\n",
       "                        <td id=\"T_a42664e6_bd80_11e9_ae28_38378bf0b9e9row6_col1\" class=\"data row6 col1\" >$3.60</td>\n",
       "                        <td id=\"T_a42664e6_bd80_11e9_ae28_38378bf0b9e9row6_col2\" class=\"data row6 col2\" >$147.67</td>\n",
       "                        <td id=\"T_a42664e6_bd80_11e9_ae28_38378bf0b9e9row6_col3\" class=\"data row6 col3\" >$4.76</td>\n",
       "            </tr>\n",
       "            <tr>\n",
       "                        <th id=\"T_a42664e6_bd80_11e9_ae28_38378bf0b9e9level0_row7\" class=\"row_heading level0 row7\" >>40</th>\n",
       "                        <td id=\"T_a42664e6_bd80_11e9_ae28_38378bf0b9e9row7_col0\" class=\"data row7 col0\" >13</td>\n",
       "                        <td id=\"T_a42664e6_bd80_11e9_ae28_38378bf0b9e9row7_col1\" class=\"data row7 col1\" >$2.94</td>\n",
       "                        <td id=\"T_a42664e6_bd80_11e9_ae28_38378bf0b9e9row7_col2\" class=\"data row7 col2\" >$38.24</td>\n",
       "                        <td id=\"T_a42664e6_bd80_11e9_ae28_38378bf0b9e9row7_col3\" class=\"data row7 col3\" >$3.19</td>\n",
       "            </tr>\n",
       "    </tbody></table>"
      ],
      "text/plain": [
       "<pandas.io.formats.style.Styler at 0x2940498b548>"
      ]
     },
     "execution_count": 12,
     "metadata": {},
     "output_type": "execute_result"
    }
   ],
   "source": [
    "#Storing data into variables using basic calculations\n",
    "count_age = age_group[\"Purchase ID\"].count()\n",
    "avg_age_purchase = age_group[\"Price\"].mean()\n",
    "total_value = age_group[\"Price\"].sum()\n",
    "avg_per_age = total_value/age_count\n",
    "\n",
    "#Creating a DataFrame to display\n",
    "age_demo = pd.DataFrame({\"Purchase Count\": count_age,\n",
    "                         \"Average Purchase Price\": avg_age_purchase,\n",
    "                         \"Total Purchase Value\": total_value,\n",
    "                         \"Average per Person\": avg_per_age})\n",
    "\n",
    "\n",
    "#Altering format to better showcase data\n",
    "age_demo.style.format({\"Average Purchase Price\":\"${:,.2f}\",\n",
    "                       \"Total Purchase Value\":\"${:,.2f}\",\n",
    "                       \"Average per Person\":\"${:,.2f}\"})"
   ]
  },
  {
   "cell_type": "markdown",
   "metadata": {},
   "source": [
    "## Top Spenders"
   ]
  },
  {
   "cell_type": "code",
   "execution_count": 14,
   "metadata": {},
   "outputs": [
    {
     "data": {
      "text/html": [
       "<div>\n",
       "<style scoped>\n",
       "    .dataframe tbody tr th:only-of-type {\n",
       "        vertical-align: middle;\n",
       "    }\n",
       "\n",
       "    .dataframe tbody tr th {\n",
       "        vertical-align: top;\n",
       "    }\n",
       "\n",
       "    .dataframe thead th {\n",
       "        text-align: right;\n",
       "    }\n",
       "</style>\n",
       "<table border=\"1\" class=\"dataframe\">\n",
       "  <thead>\n",
       "    <tr style=\"text-align: right;\">\n",
       "      <th></th>\n",
       "      <th>Purchase Count</th>\n",
       "      <th>Average Purchase Price</th>\n",
       "      <th>Total Purchase Value</th>\n",
       "    </tr>\n",
       "    <tr>\n",
       "      <th>SN</th>\n",
       "      <th></th>\n",
       "      <th></th>\n",
       "      <th></th>\n",
       "    </tr>\n",
       "  </thead>\n",
       "  <tbody>\n",
       "    <tr>\n",
       "      <th>Lisosia93</th>\n",
       "      <td>5</td>\n",
       "      <td>3.792000</td>\n",
       "      <td>18.96</td>\n",
       "    </tr>\n",
       "    <tr>\n",
       "      <th>Idastidru52</th>\n",
       "      <td>4</td>\n",
       "      <td>3.862500</td>\n",
       "      <td>15.45</td>\n",
       "    </tr>\n",
       "    <tr>\n",
       "      <th>Chamjask73</th>\n",
       "      <td>3</td>\n",
       "      <td>4.610000</td>\n",
       "      <td>13.83</td>\n",
       "    </tr>\n",
       "    <tr>\n",
       "      <th>Iral74</th>\n",
       "      <td>4</td>\n",
       "      <td>3.405000</td>\n",
       "      <td>13.62</td>\n",
       "    </tr>\n",
       "    <tr>\n",
       "      <th>Iskadarya95</th>\n",
       "      <td>3</td>\n",
       "      <td>4.366667</td>\n",
       "      <td>13.10</td>\n",
       "    </tr>\n",
       "  </tbody>\n",
       "</table>\n",
       "</div>"
      ],
      "text/plain": [
       "             Purchase Count  Average Purchase Price  Total Purchase Value\n",
       "SN                                                                       \n",
       "Lisosia93                 5                3.792000                 18.96\n",
       "Idastidru52               4                3.862500                 15.45\n",
       "Chamjask73                3                4.610000                 13.83\n",
       "Iral74                    4                3.405000                 13.62\n",
       "Iskadarya95               3                4.366667                 13.10"
      ]
     },
     "execution_count": 14,
     "metadata": {},
     "output_type": "execute_result"
    }
   ],
   "source": [
    "#Storing data into variables using basic calculations\n",
    "spenders = purchase_data.groupby(\"SN\")\n",
    "spender_count = spenders[\"Purchase ID\"].count()\n",
    "spender_avg = spenders[\"Price\"].mean()\n",
    "spender_total = spenders[\"Price\"].sum()\n",
    "\n",
    "#Creating a DataFrame to display\n",
    "top_spenders = pd.DataFrame({\"Purchase Count\": spender_count,\n",
    "                             \"Average Purchase Price\": spender_avg,\n",
    "                             \"Total Purchase Value\": spender_total})\n",
    "\n",
    "#Altering format to better showcase data\n",
    "top_spenders.sort_values(\"Total Purchase Value\", ascending=False).head(5)"
   ]
  },
  {
   "cell_type": "markdown",
   "metadata": {},
   "source": [
    "## Most Popular Items"
   ]
  },
  {
   "cell_type": "markdown",
   "metadata": {},
   "source": [
    "* Retrieve the Item ID, Item Name, and Item Price columns\n",
    "\n",
    "\n",
    "* Group by Item ID and Item Name. Perform calculations to obtain purchase count, item price, and total purchase value\n",
    "\n",
    "\n",
    "* Create a summary data frame to hold the results\n",
    "\n",
    "\n",
    "* Sort the purchase count column in descending order\n",
    "\n",
    "\n",
    "* Optional: give the displayed data cleaner formatting\n",
    "\n",
    "\n",
    "* Display a preview of the summary data frame\n",
    "\n"
   ]
  },
  {
   "cell_type": "code",
   "execution_count": null,
   "metadata": {},
   "outputs": [],
   "source": []
  },
  {
   "cell_type": "markdown",
   "metadata": {},
   "source": [
    "## Most Profitable Items"
   ]
  },
  {
   "cell_type": "markdown",
   "metadata": {},
   "source": [
    "* Sort the above table by total purchase value in descending order\n",
    "\n",
    "\n",
    "* Optional: give the displayed data cleaner formatting\n",
    "\n",
    "\n",
    "* Display a preview of the data frame\n",
    "\n"
   ]
  },
  {
   "cell_type": "code",
   "execution_count": null,
   "metadata": {
    "scrolled": true
   },
   "outputs": [],
   "source": []
  }
 ],
 "metadata": {
  "anaconda-cloud": {},
  "kernel_info": {
   "name": "python3"
  },
  "kernelspec": {
   "display_name": "Python 3",
   "language": "python",
   "name": "python3"
  },
  "language_info": {
   "codemirror_mode": {
    "name": "ipython",
    "version": 3
   },
   "file_extension": ".py",
   "mimetype": "text/x-python",
   "name": "python",
   "nbconvert_exporter": "python",
   "pygments_lexer": "ipython3",
   "version": "3.7.4"
  },
  "nteract": {
   "version": "0.2.0"
  }
 },
 "nbformat": 4,
 "nbformat_minor": 2
}
